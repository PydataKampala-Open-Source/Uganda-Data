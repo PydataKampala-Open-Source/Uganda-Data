{
 "cells": [
  {
   "cell_type": "code",
   "execution_count": 13,
   "id": "147d9e46-fdbe-4aa3-9d16-099a274c1413",
   "metadata": {},
   "outputs": [],
   "source": [
    "import pandas as pd\n",
    "import tabula"
   ]
  },
  {
   "cell_type": "code",
   "execution_count": null,
   "id": "d32de360-5daa-426a-8566-f2d627c88612",
   "metadata": {},
   "outputs": [],
   "source": [
    "data = tabula.read_pdf('FinalPresidentialResultsPollingStation.pdf',\n",
    "                       pages='all',\n",
    "                       # multiple_tables=True,\n",
    "                       # pandas_options={'headers': None},\n",
    "                       # lattice=True,\n",
    "                      )"
   ]
  },
  {
   "cell_type": "code",
   "execution_count": null,
   "id": "cb1c7bb3-19dd-4ab5-a2a1-2ebbcf3696f1",
   "metadata": {},
   "outputs": [],
   "source": [
    "data[0]"
   ]
  }
 ],
 "metadata": {
  "kernelspec": {
   "display_name": "Python 3 (ipykernel)",
   "language": "python",
   "name": "python3"
  },
  "language_info": {
   "codemirror_mode": {
    "name": "ipython",
    "version": 3
   },
   "file_extension": ".py",
   "mimetype": "text/x-python",
   "name": "python",
   "nbconvert_exporter": "python",
   "pygments_lexer": "ipython3",
   "version": "3.13.5"
  }
 },
 "nbformat": 4,
 "nbformat_minor": 5
}
